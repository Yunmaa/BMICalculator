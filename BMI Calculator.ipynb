{
 "cells": [
  {
   "cell_type": "code",
   "execution_count": 8,
   "id": "b7b40094",
   "metadata": {},
   "outputs": [
    {
     "name": "stdout",
     "output_type": "stream",
     "text": [
      "Enter your name: Joy\n",
      "Enter your weight in pounds: 199.32\n",
      "Enter your height in inches: 67.7\n",
      "Joy, your weight is 30.57, and you are obese.\n"
     ]
    }
   ],
   "source": [
    "name = input(\"Enter your name: \")\n",
    "\n",
    "weight = float(input(\"Enter your weight in pounds: \"))\n",
    "\n",
    "height = float(input(\"Enter your height in inches: \"))\n",
    "\n",
    "BMI = (weight * 703)/(height * height)\n",
    "\n",
    "if BMI > 0:\n",
    "    if BMI < 18.5:\n",
    "        print(f\"{name}, your BMI is {round(BMI, 2)}, and you are underweight.\")\n",
    "    elif BMI <= 24.9:\n",
    "        print(f\"{name}, your BMI is {round(BMI, 2)}, and you are normal weight.\")\n",
    "    elif BMI <= 29.9:\n",
    "        print(f\"{name}, your BMI is {round(BMI, 2)}, and you are overweight.\")\n",
    "    elif BMI <= 34.9:\n",
    "        print(f\"{name}, your BMI is {round(BMI, 2)}, and you are obese.\")\n",
    "    elif BMI <= 39.9:\n",
    "        print(f\"{name}, your BMI is {round(BMI, 2)}, and you are severely obese.\")\n",
    "    elif BMI >= 40:\n",
    "        print(f\"{name}, your BMI is {round(BMI, 2)}, and you are morbidly obese.\")\n",
    "else:\n",
    "    print(f\"Hi {name}, please enter valid inputs\")"
   ]
  },
  {
   "cell_type": "code",
   "execution_count": null,
   "id": "a14a3cce",
   "metadata": {},
   "outputs": [],
   "source": []
  },
  {
   "cell_type": "code",
   "execution_count": null,
   "id": "8c982689",
   "metadata": {},
   "outputs": [],
   "source": []
  },
  {
   "cell_type": "code",
   "execution_count": null,
   "id": "d68a5a54",
   "metadata": {},
   "outputs": [],
   "source": []
  },
  {
   "cell_type": "code",
   "execution_count": null,
   "id": "ed449ef3",
   "metadata": {},
   "outputs": [],
   "source": []
  },
  {
   "cell_type": "code",
   "execution_count": null,
   "id": "455a8462",
   "metadata": {},
   "outputs": [],
   "source": []
  },
  {
   "cell_type": "code",
   "execution_count": null,
   "id": "e1601204",
   "metadata": {},
   "outputs": [],
   "source": []
  }
 ],
 "metadata": {
  "kernelspec": {
   "display_name": "Python 3 (ipykernel)",
   "language": "python",
   "name": "python3"
  },
  "language_info": {
   "codemirror_mode": {
    "name": "ipython",
    "version": 3
   },
   "file_extension": ".py",
   "mimetype": "text/x-python",
   "name": "python",
   "nbconvert_exporter": "python",
   "pygments_lexer": "ipython3",
   "version": "3.10.9"
  }
 },
 "nbformat": 4,
 "nbformat_minor": 5
}
